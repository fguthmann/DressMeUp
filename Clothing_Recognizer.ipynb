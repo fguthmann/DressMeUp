{
 "cells": [
  {
   "cell_type": "code",
   "execution_count": 1,
   "id": "25a93a7e",
   "metadata": {},
   "outputs": [],
   "source": [
    "import numpy as np\n",
    "import matplotlib.pyplot as plt\n",
    "import random\n",
    "import os\n",
    "import cv2\n",
    "\n",
    "import shutil\n",
    "import tqdm\n",
    "import glob\n",
    "from ultralytics import YOLO"
   ]
  },
  {
   "cell_type": "code",
   "execution_count": 4,
   "id": "b4d85626",
   "metadata": {},
   "outputs": [],
   "source": [
    "# load pre-trained model\n",
    "detection_model = YOLO(\"best.pt\")\n"
   ]
  },
  {
   "cell_type": "code",
   "execution_count": 3,
   "id": "a11a92d8",
   "metadata": {},
   "outputs": [
    {
     "name": "stdout",
     "output_type": "stream",
     "text": [
      "\n",
      "image 1/1 /usr/src/app/ClothingRecommendation/images/163.jpg: 640x448 1 person, 1 handbag, 639.0ms\n",
      "Speed: 10.6ms preprocess, 639.0ms inference, 5.1ms postprocess per image at shape (1, 3, 640, 448)\n",
      "Results saved to \u001b[1mruns/detect/predict2\u001b[0m\n",
      "Processed ClothingRecommendation/images/163.jpg\n",
      "\n",
      "image 1/1 /usr/src/app/ClothingRecommendation/images/60.jpg: 640x448 1 person, 501.6ms\n",
      "Speed: 3.6ms preprocess, 501.6ms inference, 1.5ms postprocess per image at shape (1, 3, 640, 448)\n",
      "Results saved to \u001b[1mruns/detect/predict2\u001b[0m\n",
      "Processed ClothingRecommendation/images/60.jpg\n",
      "\n",
      "image 1/1 /usr/src/app/ClothingRecommendation/images/71.jpg: 640x448 1 person, 1 bicycle, 1 car, 469.2ms\n",
      "Speed: 3.5ms preprocess, 469.2ms inference, 1.5ms postprocess per image at shape (1, 3, 640, 448)\n",
      "Results saved to \u001b[1mruns/detect/predict2\u001b[0m\n",
      "Processed ClothingRecommendation/images/71.jpg\n",
      "\n",
      "image 1/1 /usr/src/app/ClothingRecommendation/images/8.jpg: 640x448 1 person, 1 surfboard, 474.4ms\n",
      "Speed: 3.2ms preprocess, 474.4ms inference, 1.5ms postprocess per image at shape (1, 3, 640, 448)\n",
      "Results saved to \u001b[1mruns/detect/predict2\u001b[0m\n",
      "Processed ClothingRecommendation/images/8.jpg\n",
      "\n",
      "image 1/1 /usr/src/app/ClothingRecommendation/images/107.jpg: 640x448 1 person, 486.8ms\n",
      "Speed: 3.1ms preprocess, 486.8ms inference, 2.1ms postprocess per image at shape (1, 3, 640, 448)\n",
      "Results saved to \u001b[1mruns/detect/predict2\u001b[0m\n",
      "Processed ClothingRecommendation/images/107.jpg\n",
      "\n",
      "image 1/1 /usr/src/app/ClothingRecommendation/images/34.jpg: 640x448 1 person, 1 bicycle, 560.8ms\n",
      "Speed: 3.5ms preprocess, 560.8ms inference, 1.7ms postprocess per image at shape (1, 3, 640, 448)\n",
      "Results saved to \u001b[1mruns/detect/predict2\u001b[0m\n",
      "Processed ClothingRecommendation/images/34.jpg\n",
      "\n",
      "image 1/1 /usr/src/app/ClothingRecommendation/images/42.jpg: 640x448 1 person, 542.4ms\n",
      "Speed: 3.4ms preprocess, 542.4ms inference, 2.2ms postprocess per image at shape (1, 3, 640, 448)\n",
      "Results saved to \u001b[1mruns/detect/predict2\u001b[0m\n",
      "Processed ClothingRecommendation/images/42.jpg\n",
      "\n",
      "image 1/1 /usr/src/app/ClothingRecommendation/images/82.jpg: 640x448 1 person, 524.7ms\n",
      "Speed: 3.5ms preprocess, 524.7ms inference, 1.8ms postprocess per image at shape (1, 3, 640, 448)\n",
      "Results saved to \u001b[1mruns/detect/predict2\u001b[0m\n",
      "Processed ClothingRecommendation/images/82.jpg\n",
      "\n",
      "image 1/1 /usr/src/app/ClothingRecommendation/images/51.jpg: 640x448 1 person, 1 handbag, 523.0ms\n",
      "Speed: 3.2ms preprocess, 523.0ms inference, 1.5ms postprocess per image at shape (1, 3, 640, 448)\n",
      "Results saved to \u001b[1mruns/detect/predict2\u001b[0m\n",
      "Processed ClothingRecommendation/images/51.jpg\n",
      "\n",
      "image 1/1 /usr/src/app/ClothingRecommendation/images/1.jpg: 640x448 1 person, 1 handbag, 457.9ms\n",
      "Speed: 3.2ms preprocess, 457.9ms inference, 0.8ms postprocess per image at shape (1, 3, 640, 448)\n",
      "Results saved to \u001b[1mruns/detect/predict2\u001b[0m\n",
      "Processed ClothingRecommendation/images/1.jpg\n"
     ]
    }
   ],
   "source": [
    "# Directory containing the images\n",
    "images_directory = 'ClothingRecommendation/images/'\n",
    "\n",
    "# List all files in the directory\n",
    "image_files = [f for f in os.listdir(images_directory) if f.endswith('.jpg')]\n",
    "\n",
    "# Iterate over each file in the directory\n",
    "for image_file in image_files:\n",
    "    image_path = os.path.join(images_directory, image_file)  # Construct full image path\n",
    "    # Perform prediction\n",
    "    predictions = detection_model.predict(source=image_path, conf=0.5, save=True, line_width=2, show_labels=True,\n",
    "                                          save_crop=True)\n",
    "\n",
    "    # Process predictions as needed (e.g., print results, analyze predictions, etc.)\n",
    "    # This is just a placeholder print statement. You can replace it with your processing code.\n",
    "    print(f\"Processed {image_path}\")"
   ]
  },
  {
   "cell_type": "code",
   "execution_count": null,
   "id": "7ec36801",
   "metadata": {},
   "outputs": [],
   "source": []
  }
 ],
 "metadata": {
  "kernelspec": {
   "display_name": "Python 3 (ipykernel)",
   "language": "python",
   "name": "python3"
  },
  "language_info": {
   "codemirror_mode": {
    "name": "ipython",
    "version": 3
   },
   "file_extension": ".py",
   "mimetype": "text/x-python",
   "name": "python",
   "nbconvert_exporter": "python",
   "pygments_lexer": "ipython3",
   "version": "3.8.18"
  }
 },
 "nbformat": 4,
 "nbformat_minor": 5
}
